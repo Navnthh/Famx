{
 "cells": [
  {
   "cell_type": "code",
   "execution_count": 1,
   "id": "58e8eadc",
   "metadata": {},
   "outputs": [],
   "source": [
    "import pandas as pd\n",
    "import matplotlib.pyplot as plt\n",
    "from sklearn.metrics import r2_score\n",
    "import numpy as np\n",
    "import seaborn as sns\n",
    "import warnings\n",
    "warnings.filterwarnings('ignore')\n",
    "import os"
   ]
  },
  {
   "cell_type": "markdown",
   "id": "2062cdc0",
   "metadata": {},
   "source": [
    "# Data preparation"
   ]
  },
  {
   "cell_type": "code",
   "execution_count": 3,
   "id": "216a4437",
   "metadata": {},
   "outputs": [
    {
     "name": "stdout",
     "output_type": "stream",
     "text": [
      "<class 'pandas.core.frame.DataFrame'>\n",
      "RangeIndex: 99849 entries, 0 to 99848\n",
      "Data columns (total 13 columns):\n",
      " #   Column              Non-Null Count  Dtype  \n",
      "---  ------              --------------  -----  \n",
      " 0   Unnamed: 0          99849 non-null  int64  \n",
      " 1   State_Name          99849 non-null  object \n",
      " 2   Crop_Type           99849 non-null  object \n",
      " 3   Crop                99849 non-null  object \n",
      " 4   N                   99849 non-null  int64  \n",
      " 5   P                   99849 non-null  int64  \n",
      " 6   K                   99849 non-null  int64  \n",
      " 7   pH                  99849 non-null  float64\n",
      " 8   rainfall            99849 non-null  float64\n",
      " 9   temperature         99849 non-null  float64\n",
      " 10  Area_in_hectares    99849 non-null  float64\n",
      " 11  Production_in_tons  99849 non-null  float64\n",
      " 12  Yield_ton_per_hec   99849 non-null  float64\n",
      "dtypes: float64(6), int64(4), object(3)\n",
      "memory usage: 9.9+ MB\n"
     ]
    }
   ],
   "source": [
    "df = pd.read_csv(r\"C:\\Users\\rvima\\MP CROP\\Crop_production_.csv\")\n",
    "df.info()"
   ]
  },
  {
   "cell_type": "code",
   "execution_count": 4,
   "id": "f7b60180",
   "metadata": {},
   "outputs": [
    {
     "name": "stdout",
     "output_type": "stream",
     "text": [
      "Shape of the dataset :  (99849, 13)\n"
     ]
    }
   ],
   "source": [
    "print(\"Shape of the dataset : \",df.shape)"
   ]
  },
  {
   "cell_type": "markdown",
   "id": "375fcfb1",
   "metadata": {},
   "source": [
    "# Data Pre-Processing"
   ]
  },
  {
   "cell_type": "code",
   "execution_count": 5,
   "id": "9292818b",
   "metadata": {},
   "outputs": [
    {
     "data": {
      "text/plain": [
       "Unnamed: 0            0\n",
       "State_Name            0\n",
       "Crop_Type             0\n",
       "Crop                  0\n",
       "N                     0\n",
       "P                     0\n",
       "K                     0\n",
       "pH                    0\n",
       "rainfall              0\n",
       "temperature           0\n",
       "Area_in_hectares      0\n",
       "Production_in_tons    0\n",
       "Yield_ton_per_hec     0\n",
       "dtype: int64"
      ]
     },
     "execution_count": 5,
     "metadata": {},
     "output_type": "execute_result"
    }
   ],
   "source": [
    "df.isnull().sum()"
   ]
  },
  {
   "cell_type": "code",
   "execution_count": 6,
   "id": "4aeacf2c",
   "metadata": {},
   "outputs": [],
   "source": [
    "del df['Unnamed: 0']"
   ]
  },
  {
   "cell_type": "code",
   "execution_count": 7,
   "id": "3e126556",
   "metadata": {},
   "outputs": [
    {
     "data": {
      "text/plain": [
       "State_Name            0\n",
       "Crop_Type             0\n",
       "Crop                  0\n",
       "N                     0\n",
       "P                     0\n",
       "K                     0\n",
       "pH                    0\n",
       "rainfall              0\n",
       "temperature           0\n",
       "Area_in_hectares      0\n",
       "Production_in_tons    0\n",
       "Yield_ton_per_hec     0\n",
       "dtype: int64"
      ]
     },
     "execution_count": 7,
     "metadata": {},
     "output_type": "execute_result"
    }
   ],
   "source": [
    "df.isnull().sum()"
   ]
  },
  {
   "cell_type": "code",
   "execution_count": 8,
   "id": "76f1f370",
   "metadata": {},
   "outputs": [
    {
     "data": {
      "text/plain": [
       "Crop\n",
       "rice           11430\n",
       "maize           9857\n",
       "moong           6855\n",
       "sesamum         6291\n",
       "wheat           6225\n",
       "rapeseed        5413\n",
       "jowar           5369\n",
       "potato          5324\n",
       "onion           5164\n",
       "sunflower       3682\n",
       "cotton          3157\n",
       "barley          3139\n",
       "ragi            2995\n",
       "sweetpotato     2899\n",
       "horsegram       2784\n",
       "turmeric        2562\n",
       "banana          2409\n",
       "soyabean        2325\n",
       "coriander       2253\n",
       "garlic          2138\n",
       "arecanut        1154\n",
       "tapioca         1134\n",
       "jute            1058\n",
       "cashewnuts       732\n",
       "blackpepper      571\n",
       "mango            330\n",
       "tomato           284\n",
       "brinjal          282\n",
       "papaya           281\n",
       "cardamom         237\n",
       "ladyfinger       217\n",
       "orange           146\n",
       "cabbage          125\n",
       "pineapple        117\n",
       "cauliflower      105\n",
       "grapes           104\n",
       "jackfruit         90\n",
       "drumstick         73\n",
       "cucumber          72\n",
       "bittergourd       67\n",
       "watermelon        59\n",
       "blackgram         58\n",
       "bottlegourd       58\n",
       "radish            45\n",
       "pumpkin           37\n",
       "carrot            28\n",
       "ashgourd          28\n",
       "pomegranate       24\n",
       "ridgegourd        21\n",
       "ginger            18\n",
       "beetroot          14\n",
       "coffee             6\n",
       "apple              3\n",
       "Name: count, dtype: int64"
      ]
     },
     "execution_count": 8,
     "metadata": {},
     "output_type": "execute_result"
    }
   ],
   "source": [
    "df['Crop'].value_counts()"
   ]
  },
  {
   "cell_type": "code",
   "execution_count": 9,
   "id": "5075bbe5",
   "metadata": {},
   "outputs": [
    {
     "name": "stdout",
     "output_type": "stream",
     "text": [
      "     State_Name Crop_Type  Crop   N   P   K    pH  rainfall  temperature  \\\n",
      "7244     kerala    kharif  rice  80  40  40  5.40   1997.12    27.000000   \n",
      "7246     kerala    summer  rice  80  40  40  5.34    330.00    29.333333   \n",
      "7254     kerala      rabi  rice  80  40  40  5.58    490.74    27.600000   \n",
      "7255     kerala    kharif  rice  80  40  40  5.46   1997.12    27.000000   \n",
      "7257     kerala    summer  rice  80  40  40  5.38    330.00    29.333333   \n",
      "\n",
      "      Area_in_hectares  Production_in_tons  Yield_ton_per_hec  \n",
      "7244            8719.0             17570.0           2.015139  \n",
      "7246           19058.0             58013.0           3.044024  \n",
      "7254            7348.0             16098.0           2.190800  \n",
      "7255           16822.0             28778.0           1.710736  \n",
      "7257           12446.0             19138.0           1.537683  \n",
      "Shape of the rice dataset: (530, 12)\n"
     ]
    }
   ],
   "source": [
    "# Filter the DataFrame to only include rows where the 'Crop' is 'Rice'\n",
    "rice_df = df[(df['State_Name'] == 'kerala') & (df['Crop'] == 'rice')]\n",
    "# Display the first few rows of the rice data to verify\n",
    "print(rice_df.head())\n",
    "\n",
    "# Checking the shape of the new DataFrame to see how many entries are about rice\n",
    "print(\"Shape of the rice dataset:\", rice_df.shape)"
   ]
  },
  {
   "cell_type": "code",
   "execution_count": 10,
   "id": "5530f2f4",
   "metadata": {},
   "outputs": [
    {
     "name": "stdout",
     "output_type": "stream",
     "text": [
      "<class 'pandas.core.frame.DataFrame'>\n",
      "Index: 530 entries, 7244 to 95912\n",
      "Data columns (total 12 columns):\n",
      " #   Column              Non-Null Count  Dtype  \n",
      "---  ------              --------------  -----  \n",
      " 0   State_Name          530 non-null    object \n",
      " 1   Crop_Type           530 non-null    object \n",
      " 2   Crop                530 non-null    object \n",
      " 3   N                   530 non-null    int64  \n",
      " 4   P                   530 non-null    int64  \n",
      " 5   K                   530 non-null    int64  \n",
      " 6   pH                  530 non-null    float64\n",
      " 7   rainfall            530 non-null    float64\n",
      " 8   temperature         530 non-null    float64\n",
      " 9   Area_in_hectares    530 non-null    float64\n",
      " 10  Production_in_tons  530 non-null    float64\n",
      " 11  Yield_ton_per_hec   530 non-null    float64\n",
      "dtypes: float64(6), int64(3), object(3)\n",
      "memory usage: 53.8+ KB\n"
     ]
    }
   ],
   "source": [
    "rice_df.info()"
   ]
  },
  {
   "cell_type": "code",
   "execution_count": 11,
   "id": "74203d09",
   "metadata": {},
   "outputs": [
    {
     "data": {
      "image/png": "[encoded data removed]",
      "text/plain": [
       "<Figure size 1000x800 with 2 Axes>"
      ]
     },
     "metadata": {},
     "output_type": "display_data"
    }
   ],
   "source": [
    "# Exclude 'N', 'P', and 'K' columns from correlation calculation\n",
    "rice_numeric = rice_df.drop(columns=['N', 'P', 'K'])\n",
    "\n",
    "# Exclude non-numeric columns and 'N', 'P', 'K' columns from correlation calculation\n",
    "rice_numeric = rice_df.drop(columns=['State_Name', 'Crop_Type', 'Crop', 'N', 'P', 'K'])\n",
    "\n",
    "plt.figure(figsize=(10,8))\n",
    "sns.heatmap(rice_numeric.corr(), annot=True, cmap='coolwarm')\n",
    "plt.title('Correlation Heatmap of Numeric Features for Rice (Excluding non-numeric and N, P, K columns)')\n",
    "plt.show()"
   ]
  },
  {
   "cell_type": "code",
   "execution_count": 12,
   "id": "7a7be154",
   "metadata": {},
   "outputs": [
    {
     "data": {
      "text/plain": [
       "0"
      ]
     },
     "execution_count": 12,
     "metadata": {},
     "output_type": "execute_result"
    }
   ],
   "source": [
    "rice_df.duplicated().sum()"
   ]
  },
  {
   "cell_type": "code",
   "execution_count": 13,
   "id": "e47e3c6b",
   "metadata": {},
   "outputs": [],
   "source": [
    "import matplotlib.pyplot as plt\n",
    "%matplotlib inline"
   ]
  },
  {
   "cell_type": "markdown",
   "id": "044f987a",
   "metadata": {},
   "source": [
    "# Splitting the data into training and testing sets"
   ]
  },
  {
   "cell_type": "code",
   "execution_count": 14,
   "id": "18593d7d",
   "metadata": {},
   "outputs": [],
   "source": [
    "from sklearn.model_selection import train_test_split"
   ]
  },
  {
   "cell_type": "code",
   "execution_count": 15,
   "id": "4f375ac2",
   "metadata": {},
   "outputs": [
    {
     "name": "stdout",
     "output_type": "stream",
     "text": [
      "Index(['State_Name', 'Crop_Type', 'Crop', 'N', 'P', 'K', 'pH', 'rainfall',\n",
      "       'temperature', 'Area_in_hectares', 'Production_in_tons',\n",
      "       'Yield_ton_per_hec'],\n",
      "      dtype='object')\n"
     ]
    }
   ],
   "source": [
    "print(rice_df.columns)"
   ]
  },
  {
   "cell_type": "markdown",
   "id": "936f28a3",
   "metadata": {},
   "source": [
    "# Data splitting"
   ]
  },
  {
   "cell_type": "code",
   "execution_count": 16,
   "id": "216d517e",
   "metadata": {},
   "outputs": [],
   "source": [
    "X=rice_df[['pH','rainfall','temperature','Area_in_hectares']]\n",
    "Y=rice_df['Production_in_tons']"
   ]
  },
  {
   "cell_type": "code",
   "execution_count": 17,
   "id": "a7046a98",
   "metadata": {},
   "outputs": [
    {
     "data": {
      "text/html": [
       "<div>\n",
       "<style scoped>\n",
       "    .dataframe tbody tr th:only-of-type {\n",
       "        vertical-align: middle;\n",
       "    }\n",
       "\n",
       "    .dataframe tbody tr th {\n",
       "        vertical-align: top;\n",
       "    }\n",
       "\n",
       "    .dataframe thead th {\n",
       "        text-align: right;\n",
       "    }\n",
       "</style>\n",
       "<table border=\"1\" class=\"dataframe\">\n",
       "  <thead>\n",
       "    <tr style=\"text-align: right;\">\n",
       "      <th></th>\n",
       "      <th>pH</th>\n",
       "      <th>rainfall</th>\n",
       "      <th>temperature</th>\n",
       "      <th>Area_in_hectares</th>\n",
       "    </tr>\n",
       "  </thead>\n",
       "  <tbody>\n",
       "    <tr>\n",
       "      <th>7244</th>\n",
       "      <td>5.40</td>\n",
       "      <td>1997.12</td>\n",
       "      <td>27.000000</td>\n",
       "      <td>8719.00</td>\n",
       "    </tr>\n",
       "    <tr>\n",
       "      <th>7246</th>\n",
       "      <td>5.34</td>\n",
       "      <td>330.00</td>\n",
       "      <td>29.333333</td>\n",
       "      <td>19058.00</td>\n",
       "    </tr>\n",
       "    <tr>\n",
       "      <th>7254</th>\n",
       "      <td>5.58</td>\n",
       "      <td>490.74</td>\n",
       "      <td>27.600000</td>\n",
       "      <td>7348.00</td>\n",
       "    </tr>\n",
       "    <tr>\n",
       "      <th>7255</th>\n",
       "      <td>5.46</td>\n",
       "      <td>1997.12</td>\n",
       "      <td>27.000000</td>\n",
       "      <td>16822.00</td>\n",
       "    </tr>\n",
       "    <tr>\n",
       "      <th>7257</th>\n",
       "      <td>5.38</td>\n",
       "      <td>330.00</td>\n",
       "      <td>29.333333</td>\n",
       "      <td>12446.00</td>\n",
       "    </tr>\n",
       "    <tr>\n",
       "      <th>...</th>\n",
       "      <td>...</td>\n",
       "      <td>...</td>\n",
       "      <td>...</td>\n",
       "      <td>...</td>\n",
       "    </tr>\n",
       "    <tr>\n",
       "      <th>95894</th>\n",
       "      <td>5.40</td>\n",
       "      <td>1997.12</td>\n",
       "      <td>27.000000</td>\n",
       "      <td>3033.46</td>\n",
       "    </tr>\n",
       "    <tr>\n",
       "      <th>95896</th>\n",
       "      <td>5.52</td>\n",
       "      <td>330.00</td>\n",
       "      <td>29.333333</td>\n",
       "      <td>6361.90</td>\n",
       "    </tr>\n",
       "    <tr>\n",
       "      <th>95903</th>\n",
       "      <td>5.40</td>\n",
       "      <td>490.74</td>\n",
       "      <td>27.600000</td>\n",
       "      <td>10863.98</td>\n",
       "    </tr>\n",
       "    <tr>\n",
       "      <th>95905</th>\n",
       "      <td>5.66</td>\n",
       "      <td>330.00</td>\n",
       "      <td>29.333333</td>\n",
       "      <td>1834.85</td>\n",
       "    </tr>\n",
       "    <tr>\n",
       "      <th>95912</th>\n",
       "      <td>5.64</td>\n",
       "      <td>490.74</td>\n",
       "      <td>27.600000</td>\n",
       "      <td>9218.78</td>\n",
       "    </tr>\n",
       "  </tbody>\n",
       "</table>\n",
       "<p>530 rows × 4 columns</p>\n",
       "</div>"
      ],
      "text/plain": [
       "         pH  rainfall  temperature  Area_in_hectares\n",
       "7244   5.40   1997.12    27.000000           8719.00\n",
       "7246   5.34    330.00    29.333333          19058.00\n",
       "7254   5.58    490.74    27.600000           7348.00\n",
       "7255   5.46   1997.12    27.000000          16822.00\n",
       "7257   5.38    330.00    29.333333          12446.00\n",
       "...     ...       ...          ...               ...\n",
       "95894  5.40   1997.12    27.000000           3033.46\n",
       "95896  5.52    330.00    29.333333           6361.90\n",
       "95903  5.40    490.74    27.600000          10863.98\n",
       "95905  5.66    330.00    29.333333           1834.85\n",
       "95912  5.64    490.74    27.600000           9218.78\n",
       "\n",
       "[530 rows x 4 columns]"
      ]
     },
     "execution_count": 17,
     "metadata": {},
     "output_type": "execute_result"
    }
   ],
   "source": [
    "X"
   ]
  },
  {
   "cell_type": "code",
   "execution_count": 18,
   "id": "6c01ced4",
   "metadata": {},
   "outputs": [
    {
     "data": {
      "text/plain": [
       "7244     17570.00\n",
       "7246     58013.00\n",
       "7254     16098.00\n",
       "7255     28778.00\n",
       "7257     19138.00\n",
       "           ...   \n",
       "95894     6012.32\n",
       "95896    20223.94\n",
       "95903    26843.21\n",
       "95905     5266.37\n",
       "95912    22644.74\n",
       "Name: Production_in_tons, Length: 530, dtype: float64"
      ]
     },
     "execution_count": 18,
     "metadata": {},
     "output_type": "execute_result"
    }
   ],
   "source": [
    "Y"
   ]
  },
  {
   "cell_type": "code",
   "execution_count": 19,
   "id": "c2dbbdfe",
   "metadata": {},
   "outputs": [],
   "source": [
    "from sklearn.model_selection import train_test_split"
   ]
  },
  {
   "cell_type": "code",
   "execution_count": 20,
   "id": "4d39dec7",
   "metadata": {},
   "outputs": [],
   "source": [
    "X_train,X_test,Y_train,Y_test=train_test_split(X,Y,test_size=0.2,random_state=100)"
   ]
  },
  {
   "cell_type": "code",
   "execution_count": 21,
   "id": "59d714cb",
   "metadata": {},
   "outputs": [
    {
     "data": {
      "text/html": [
       "<div>\n",
       "<style scoped>\n",
       "    .dataframe tbody tr th:only-of-type {\n",
       "        vertical-align: middle;\n",
       "    }\n",
       "\n",
       "    .dataframe tbody tr th {\n",
       "        vertical-align: top;\n",
       "    }\n",
       "\n",
       "    .dataframe thead th {\n",
       "        text-align: right;\n",
       "    }\n",
       "</style>\n",
       "<table border=\"1\" class=\"dataframe\">\n",
       "  <thead>\n",
       "    <tr style=\"text-align: right;\">\n",
       "      <th></th>\n",
       "      <th>pH</th>\n",
       "      <th>rainfall</th>\n",
       "      <th>temperature</th>\n",
       "      <th>Area_in_hectares</th>\n",
       "    </tr>\n",
       "  </thead>\n",
       "  <tbody>\n",
       "    <tr>\n",
       "      <th>73816</th>\n",
       "      <td>5.58</td>\n",
       "      <td>330.0</td>\n",
       "      <td>29.333333</td>\n",
       "      <td>60.00</td>\n",
       "    </tr>\n",
       "    <tr>\n",
       "      <th>51565</th>\n",
       "      <td>5.60</td>\n",
       "      <td>330.0</td>\n",
       "      <td>29.333333</td>\n",
       "      <td>92.00</td>\n",
       "    </tr>\n",
       "    <tr>\n",
       "      <th>51622</th>\n",
       "      <td>5.62</td>\n",
       "      <td>330.0</td>\n",
       "      <td>29.333333</td>\n",
       "      <td>420.00</td>\n",
       "    </tr>\n",
       "    <tr>\n",
       "      <th>7246</th>\n",
       "      <td>5.34</td>\n",
       "      <td>330.0</td>\n",
       "      <td>29.333333</td>\n",
       "      <td>19058.00</td>\n",
       "    </tr>\n",
       "    <tr>\n",
       "      <th>13535</th>\n",
       "      <td>5.38</td>\n",
       "      <td>330.0</td>\n",
       "      <td>29.333333</td>\n",
       "      <td>917.00</td>\n",
       "    </tr>\n",
       "    <tr>\n",
       "      <th>...</th>\n",
       "      <td>...</td>\n",
       "      <td>...</td>\n",
       "      <td>...</td>\n",
       "      <td>...</td>\n",
       "    </tr>\n",
       "    <tr>\n",
       "      <th>51655</th>\n",
       "      <td>5.36</td>\n",
       "      <td>330.0</td>\n",
       "      <td>29.333333</td>\n",
       "      <td>8658.00</td>\n",
       "    </tr>\n",
       "    <tr>\n",
       "      <th>13502</th>\n",
       "      <td>5.32</td>\n",
       "      <td>330.0</td>\n",
       "      <td>29.333333</td>\n",
       "      <td>217.00</td>\n",
       "    </tr>\n",
       "    <tr>\n",
       "      <th>66197</th>\n",
       "      <td>5.40</td>\n",
       "      <td>330.0</td>\n",
       "      <td>29.333333</td>\n",
       "      <td>1595.00</td>\n",
       "    </tr>\n",
       "    <tr>\n",
       "      <th>13602</th>\n",
       "      <td>5.34</td>\n",
       "      <td>330.0</td>\n",
       "      <td>29.333333</td>\n",
       "      <td>2750.00</td>\n",
       "    </tr>\n",
       "    <tr>\n",
       "      <th>95877</th>\n",
       "      <td>5.52</td>\n",
       "      <td>330.0</td>\n",
       "      <td>29.333333</td>\n",
       "      <td>2393.46</td>\n",
       "    </tr>\n",
       "  </tbody>\n",
       "</table>\n",
       "<p>424 rows × 4 columns</p>\n",
       "</div>"
      ],
      "text/plain": [
       "         pH  rainfall  temperature  Area_in_hectares\n",
       "73816  5.58     330.0    29.333333             60.00\n",
       "51565  5.60     330.0    29.333333             92.00\n",
       "51622  5.62     330.0    29.333333            420.00\n",
       "7246   5.34     330.0    29.333333          19058.00\n",
       "13535  5.38     330.0    29.333333            917.00\n",
       "...     ...       ...          ...               ...\n",
       "51655  5.36     330.0    29.333333           8658.00\n",
       "13502  5.32     330.0    29.333333            217.00\n",
       "66197  5.40     330.0    29.333333           1595.00\n",
       "13602  5.34     330.0    29.333333           2750.00\n",
       "95877  5.52     330.0    29.333333           2393.46\n",
       "\n",
       "[424 rows x 4 columns]"
      ]
     },
     "execution_count": 21,
     "metadata": {},
     "output_type": "execute_result"
    }
   ],
   "source": [
    "X_train"
   ]
  },
  {
   "cell_type": "code",
   "execution_count": 22,
   "id": "28168a41",
   "metadata": {},
   "outputs": [
    {
     "data": {
      "text/html": [
       "<div>\n",
       "<style scoped>\n",
       "    .dataframe tbody tr th:only-of-type {\n",
       "        vertical-align: middle;\n",
       "    }\n",
       "\n",
       "    .dataframe tbody tr th {\n",
       "        vertical-align: top;\n",
       "    }\n",
       "\n",
       "    .dataframe thead th {\n",
       "        text-align: right;\n",
       "    }\n",
       "</style>\n",
       "<table border=\"1\" class=\"dataframe\">\n",
       "  <thead>\n",
       "    <tr style=\"text-align: right;\">\n",
       "      <th></th>\n",
       "      <th>pH</th>\n",
       "      <th>rainfall</th>\n",
       "      <th>temperature</th>\n",
       "      <th>Area_in_hectares</th>\n",
       "    </tr>\n",
       "  </thead>\n",
       "  <tbody>\n",
       "    <tr>\n",
       "      <th>73848</th>\n",
       "      <td>5.32</td>\n",
       "      <td>330.00</td>\n",
       "      <td>29.333333</td>\n",
       "      <td>1528.0</td>\n",
       "    </tr>\n",
       "    <tr>\n",
       "      <th>88311</th>\n",
       "      <td>5.62</td>\n",
       "      <td>490.74</td>\n",
       "      <td>27.600000</td>\n",
       "      <td>6356.0</td>\n",
       "    </tr>\n",
       "    <tr>\n",
       "      <th>81281</th>\n",
       "      <td>5.66</td>\n",
       "      <td>490.74</td>\n",
       "      <td>27.600000</td>\n",
       "      <td>2025.0</td>\n",
       "    </tr>\n",
       "    <tr>\n",
       "      <th>59279</th>\n",
       "      <td>5.32</td>\n",
       "      <td>490.74</td>\n",
       "      <td>27.600000</td>\n",
       "      <td>9774.0</td>\n",
       "    </tr>\n",
       "    <tr>\n",
       "      <th>59248</th>\n",
       "      <td>5.38</td>\n",
       "      <td>1997.12</td>\n",
       "      <td>27.000000</td>\n",
       "      <td>3937.0</td>\n",
       "    </tr>\n",
       "    <tr>\n",
       "      <th>...</th>\n",
       "      <td>...</td>\n",
       "      <td>...</td>\n",
       "      <td>...</td>\n",
       "      <td>...</td>\n",
       "    </tr>\n",
       "    <tr>\n",
       "      <th>27538</th>\n",
       "      <td>5.40</td>\n",
       "      <td>490.74</td>\n",
       "      <td>27.600000</td>\n",
       "      <td>4703.0</td>\n",
       "    </tr>\n",
       "    <tr>\n",
       "      <th>66119</th>\n",
       "      <td>5.48</td>\n",
       "      <td>1997.12</td>\n",
       "      <td>27.000000</td>\n",
       "      <td>5740.0</td>\n",
       "    </tr>\n",
       "    <tr>\n",
       "      <th>66129</th>\n",
       "      <td>5.64</td>\n",
       "      <td>490.74</td>\n",
       "      <td>27.600000</td>\n",
       "      <td>13700.0</td>\n",
       "    </tr>\n",
       "    <tr>\n",
       "      <th>66121</th>\n",
       "      <td>5.40</td>\n",
       "      <td>330.00</td>\n",
       "      <td>29.333333</td>\n",
       "      <td>2455.0</td>\n",
       "    </tr>\n",
       "    <tr>\n",
       "      <th>88326</th>\n",
       "      <td>5.46</td>\n",
       "      <td>490.74</td>\n",
       "      <td>27.600000</td>\n",
       "      <td>49056.0</td>\n",
       "    </tr>\n",
       "  </tbody>\n",
       "</table>\n",
       "<p>106 rows × 4 columns</p>\n",
       "</div>"
      ],
      "text/plain": [
       "         pH  rainfall  temperature  Area_in_hectares\n",
       "73848  5.32    330.00    29.333333            1528.0\n",
       "88311  5.62    490.74    27.600000            6356.0\n",
       "81281  5.66    490.74    27.600000            2025.0\n",
       "59279  5.32    490.74    27.600000            9774.0\n",
       "59248  5.38   1997.12    27.000000            3937.0\n",
       "...     ...       ...          ...               ...\n",
       "27538  5.40    490.74    27.600000            4703.0\n",
       "66119  5.48   1997.12    27.000000            5740.0\n",
       "66129  5.64    490.74    27.600000           13700.0\n",
       "66121  5.40    330.00    29.333333            2455.0\n",
       "88326  5.46    490.74    27.600000           49056.0\n",
       "\n",
       "[106 rows x 4 columns]"
      ]
     },
     "execution_count": 22,
     "metadata": {},
     "output_type": "execute_result"
    }
   ],
   "source": [
    "X_test"
   ]
  },
  {
   "cell_type": "code",
   "execution_count": 23,
   "id": "621c8ac8",
   "metadata": {},
   "outputs": [
    {
     "data": {
      "text/html": [
       "<div>\n",
       "<style scoped>\n",
       "    .dataframe tbody tr th:only-of-type {\n",
       "        vertical-align: middle;\n",
       "    }\n",
       "\n",
       "    .dataframe tbody tr th {\n",
       "        vertical-align: top;\n",
       "    }\n",
       "\n",
       "    .dataframe thead th {\n",
       "        text-align: right;\n",
       "    }\n",
       "</style>\n",
       "<table border=\"1\" class=\"dataframe\">\n",
       "  <thead>\n",
       "    <tr style=\"text-align: right;\">\n",
       "      <th></th>\n",
       "      <th>pH</th>\n",
       "      <th>rainfall</th>\n",
       "      <th>temperature</th>\n",
       "      <th>Area_in_hectares</th>\n",
       "    </tr>\n",
       "  </thead>\n",
       "  <tbody>\n",
       "    <tr>\n",
       "      <th>73816</th>\n",
       "      <td>5.58</td>\n",
       "      <td>330.0</td>\n",
       "      <td>29.333333</td>\n",
       "      <td>60.00</td>\n",
       "    </tr>\n",
       "    <tr>\n",
       "      <th>51565</th>\n",
       "      <td>5.60</td>\n",
       "      <td>330.0</td>\n",
       "      <td>29.333333</td>\n",
       "      <td>92.00</td>\n",
       "    </tr>\n",
       "    <tr>\n",
       "      <th>51622</th>\n",
       "      <td>5.62</td>\n",
       "      <td>330.0</td>\n",
       "      <td>29.333333</td>\n",
       "      <td>420.00</td>\n",
       "    </tr>\n",
       "    <tr>\n",
       "      <th>7246</th>\n",
       "      <td>5.34</td>\n",
       "      <td>330.0</td>\n",
       "      <td>29.333333</td>\n",
       "      <td>19058.00</td>\n",
       "    </tr>\n",
       "    <tr>\n",
       "      <th>13535</th>\n",
       "      <td>5.38</td>\n",
       "      <td>330.0</td>\n",
       "      <td>29.333333</td>\n",
       "      <td>917.00</td>\n",
       "    </tr>\n",
       "    <tr>\n",
       "      <th>...</th>\n",
       "      <td>...</td>\n",
       "      <td>...</td>\n",
       "      <td>...</td>\n",
       "      <td>...</td>\n",
       "    </tr>\n",
       "    <tr>\n",
       "      <th>51655</th>\n",
       "      <td>5.36</td>\n",
       "      <td>330.0</td>\n",
       "      <td>29.333333</td>\n",
       "      <td>8658.00</td>\n",
       "    </tr>\n",
       "    <tr>\n",
       "      <th>13502</th>\n",
       "      <td>5.32</td>\n",
       "      <td>330.0</td>\n",
       "      <td>29.333333</td>\n",
       "      <td>217.00</td>\n",
       "    </tr>\n",
       "    <tr>\n",
       "      <th>66197</th>\n",
       "      <td>5.40</td>\n",
       "      <td>330.0</td>\n",
       "      <td>29.333333</td>\n",
       "      <td>1595.00</td>\n",
       "    </tr>\n",
       "    <tr>\n",
       "      <th>13602</th>\n",
       "      <td>5.34</td>\n",
       "      <td>330.0</td>\n",
       "      <td>29.333333</td>\n",
       "      <td>2750.00</td>\n",
       "    </tr>\n",
       "    <tr>\n",
       "      <th>95877</th>\n",
       "      <td>5.52</td>\n",
       "      <td>330.0</td>\n",
       "      <td>29.333333</td>\n",
       "      <td>2393.46</td>\n",
       "    </tr>\n",
       "  </tbody>\n",
       "</table>\n",
       "<p>424 rows × 4 columns</p>\n",
       "</div>"
      ],
      "text/plain": [
       "         pH  rainfall  temperature  Area_in_hectares\n",
       "73816  5.58     330.0    29.333333             60.00\n",
       "51565  5.60     330.0    29.333333             92.00\n",
       "51622  5.62     330.0    29.333333            420.00\n",
       "7246   5.34     330.0    29.333333          19058.00\n",
       "13535  5.38     330.0    29.333333            917.00\n",
       "...     ...       ...          ...               ...\n",
       "51655  5.36     330.0    29.333333           8658.00\n",
       "13502  5.32     330.0    29.333333            217.00\n",
       "66197  5.40     330.0    29.333333           1595.00\n",
       "13602  5.34     330.0    29.333333           2750.00\n",
       "95877  5.52     330.0    29.333333           2393.46\n",
       "\n",
       "[424 rows x 4 columns]"
      ]
     },
     "execution_count": 23,
     "metadata": {},
     "output_type": "execute_result"
    }
   ],
   "source": [
    "X_train"
   ]
  },
  {
   "cell_type": "code",
   "execution_count": 24,
   "id": "a6f7cfa9",
   "metadata": {},
   "outputs": [
    {
     "data": {
      "text/plain": [
       "73816       97.0\n",
       "51565      175.0\n",
       "51622      749.0\n",
       "7246     58013.0\n",
       "13535     1540.0\n",
       "          ...   \n",
       "51655    26886.0\n",
       "13502      426.0\n",
       "66197     5515.0\n",
       "13602     6978.0\n",
       "95877     5289.7\n",
       "Name: Production_in_tons, Length: 424, dtype: float64"
      ]
     },
     "execution_count": 24,
     "metadata": {},
     "output_type": "execute_result"
    }
   ],
   "source": [
    "Y_train"
   ]
  },
  {
   "cell_type": "markdown",
   "id": "3ac71fe8",
   "metadata": {},
   "source": [
    "# Models"
   ]
  },
  {
   "cell_type": "code",
   "execution_count": 42,
   "id": "3cfe1765",
   "metadata": {},
   "outputs": [
    {
     "name": "stdout",
     "output_type": "stream",
     "text": [
      "lr : mae : 2420.9531300626886 score : 0.9802617429009982\n",
      "lss : mae : 2420.676937543046 score : 0.9802596127502128\n",
      "Rid : mae : 2420.853179989529 score : 0.9802575929376696\n",
      "Dtr : mae : 2448.344716981132 score : 0.9811475858700053\n"
     ]
    }
   ],
   "source": [
    "from sklearn.linear_model import LinearRegression,Lasso,Ridge\n",
    "from sklearn.neighbors import KNeighborsRegressor\n",
    "from sklearn.tree import DecisionTreeRegressor\n",
    "from sklearn.metrics import mean_absolute_error,r2_score\n",
    "\n",
    "\n",
    "models = {\n",
    "    'lr':LinearRegression(),\n",
    "    'lss':Lasso(),\n",
    "    'Rid':Ridge(),\n",
    "    'Dtr':DecisionTreeRegressor()\n",
    "}\n",
    "for name, md in models.items():\n",
    "    md.fit(X_train,Y_train)\n",
    "    y_pred = md.predict(X_test)\n",
    "    \n",
    "    print(f\"{name} : mae : {mean_absolute_error(Y_test,y_pred)} score : {r2_score(Y_test,y_pred)}\")"
   ]
  },
  {
   "cell_type": "markdown",
   "id": "d8047ad7",
   "metadata": {},
   "source": [
    "# Select Model"
   ]
  },
  {
   "cell_type": "code",
   "execution_count": 43,
   "id": "5863124c",
   "metadata": {},
   "outputs": [
    {
     "data": {
      "text/plain": [
       "array([ 4.74071753e+03,  1.38215366e+04,  4.07136940e+03,  2.15684367e+04,\n",
       "        7.95852218e+03,  5.04515338e+03,  1.31545849e+05,  2.71178675e+04,\n",
       "        5.14189953e+03,  1.00742929e+05,  3.64851967e+03,  1.80997734e+04,\n",
       "        7.21712974e+03,  4.67768447e+03,  3.68293847e+03,  7.55525405e+03,\n",
       "        6.71132334e+03,  1.10745260e+04,  9.79286835e+03,  9.01801659e+03,\n",
       "        1.29885567e+03,  1.12254317e+04,  6.74260416e+03,  1.24652237e+03,\n",
       "        2.56893604e+04,  8.40822155e+03,  1.39023054e+04,  5.26606674e+04,\n",
       "        1.44445513e+03,  7.03518353e+03,  5.24005325e+04,  6.69788928e+03,\n",
       "        7.94196862e+03, -4.31126954e+02,  7.18736198e+03,  8.68757375e+02,\n",
       "        2.66315810e+04,  2.14206017e+03,  1.49477004e+03,  1.97436981e+03,\n",
       "        1.96246507e+03,  1.53014610e+03,  5.07267996e+03,  2.90591942e+03,\n",
       "        1.75833545e+04,  3.06835177e+03,  7.61348617e+03,  1.28142316e+04,\n",
       "        3.69272457e+04,  1.61543338e+03,  6.53709619e+03,  6.42067799e+03,\n",
       "        7.91660565e+02,  3.60305911e+03,  1.46660770e+03,  5.12653886e+04,\n",
       "        1.44370945e+03, -4.33972188e+02,  8.59957943e+04,  1.28306356e+05,\n",
       "        7.21946964e+03,  7.43768649e+03,  1.35759903e+04,  8.92572914e+02,\n",
       "        4.48792269e+03,  3.59938703e+03,  9.77005226e+03,  3.04791456e+03,\n",
       "        2.64388126e+03,  2.82950780e+03,  1.91740146e+04,  1.51849513e+03,\n",
       "        1.56448373e+03,  1.46938012e+04,  7.03823527e-01,  1.96471063e+04,\n",
       "        1.49211690e+03,  5.28945471e+03,  3.56171247e+04,  2.61396555e+04,\n",
       "        1.13681678e+05,  1.63546691e+03,  3.72800978e+03,  1.05017493e+05,\n",
       "        5.00937364e+03,  1.07481431e+04,  3.81609251e+04, -6.88584032e+02,\n",
       "        1.55225783e+04,  2.31840185e+04,  1.50296051e+03,  3.38365108e+04,\n",
       "        8.47074100e+03,  2.78029135e+04,  1.17867432e+05,  2.15006170e+04,\n",
       "        9.71727084e+02,  1.32531296e+04,  6.71779846e+03,  5.44351891e+03,\n",
       "        1.12367125e+03,  1.01459037e+04,  1.19948755e+04,  3.03376678e+04,\n",
       "        6.81042989e+03,  1.09904435e+05])"
      ]
     },
     "execution_count": 43,
     "metadata": {},
     "output_type": "execute_result"
    }
   ],
   "source": [
    "dtr = DecisionTreeRegressor()\n",
    "dtr.fit(X_train,Y_train)\n",
    "dtr.predict(X_test)\n",
    "\n",
    "Rid = Ridge()\n",
    "Rid.fit(X_train,Y_train)\n",
    "Rid.predict(X_test)\n",
    "\n",
    "lss = Lasso()\n",
    "lss.fit(X_train,Y_train)\n",
    "lss.predict(X_test)"
   ]
  },
  {
   "cell_type": "markdown",
   "id": "385d2e1f",
   "metadata": {},
   "source": [
    "# Prediction function"
   ]
  },
  {
   "cell_type": "code",
   "execution_count": 44,
   "id": "384756c6",
   "metadata": {},
   "outputs": [
    {
     "name": "stdout",
     "output_type": "stream",
     "text": [
      "Predicted yield: 58013.0\n"
     ]
    }
   ],
   "source": [
    "def prediction(pH, rainfall, temperature, Area_in_hectares):\n",
    "    # Create an array of the input features\n",
    "    features = np.array([[pH, rainfall, temperature, Area_in_hectares]])\n",
    "\n",
    "    # Make the prediction directly using the trained model\n",
    "    predicted_yield = dtr.predict(features)\n",
    "\n",
    "    return predicted_yield[0]\n",
    "\n",
    "# Example input values\n",
    "pH =5.34\n",
    "rainfall = 330.00\n",
    "temperature =29.333333\n",
    "Area_in_hectares = 19058.00\n",
    "\n",
    "# Make prediction\n",
    "result = prediction(pH, rainfall, temperature, Area_in_hectares)\n",
    "\n",
    "print(\"Predicted yield:\", result)"
   ]
  },
  {
   "cell_type": "markdown",
   "id": "48528861",
   "metadata": {},
   "source": [
    "# Pickle files"
   ]
  },
  {
   "cell_type": "code",
   "execution_count": 46,
   "id": "bd738000",
   "metadata": {},
   "outputs": [],
   "source": [
    "import pickle\n",
    "pickle.dump(dtr,open('dtr.pkl','wb'))"
   ]
  },
  {
   "cell_type": "code",
   "execution_count": 47,
   "id": "051d2fae",
   "metadata": {},
   "outputs": [
    {
     "name": "stdout",
     "output_type": "stream",
     "text": [
      "1.2.2\n"
     ]
    }
   ],
   "source": [
    "import sklearn\n",
    "print(sklearn.__version__)"
   ]
  }
 ],
 "metadata": {
  "kernelspec": {
   "display_name": "Python 3 (ipykernel)",
   "language": "python",
   "name": "python3"
  },
  "language_info": {
   "codemirror_mode": {
    "name": "ipython",
    "version": 3
   },
   "file_extension": ".py",
   "mimetype": "text/x-python",
   "name": "python",
   "nbconvert_exporter": "python",
   "pygments_lexer": "ipython3",
   "version": "3.11.7"
  }
 },
 "nbformat": 4,
 "nbformat_minor": 5
}
